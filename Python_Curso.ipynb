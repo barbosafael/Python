{
  "nbformat": 4,
  "nbformat_minor": 0,
  "metadata": {
    "colab": {
      "name": "Python Curso.ipynb",
      "provenance": [],
      "collapsed_sections": [],
      "authorship_tag": "ABX9TyP0kWzLYPWukDDn9IAyW36W",
      "include_colab_link": true
    },
    "kernelspec": {
      "name": "python3",
      "display_name": "Python 3"
    },
    "language_info": {
      "name": "python"
    }
  },
  "cells": [
    {
      "cell_type": "markdown",
      "metadata": {
        "id": "view-in-github",
        "colab_type": "text"
      },
      "source": [
        "<a href=\"https://colab.research.google.com/github/barbosafael/Python/blob/main/Python_Curso.ipynb\" target=\"_parent\"><img src=\"https://colab.research.google.com/assets/colab-badge.svg\" alt=\"Open In Colab\"/></a>"
      ]
    },
    {
      "cell_type": "markdown",
      "source": [
        "\n",
        "\n",
        "```\n",
        "# Isto está formatado como código\n",
        "```\n",
        "\n"
      ],
      "metadata": {
        "id": "WZKXi5M5264w"
      }
    },
    {
      "cell_type": "markdown",
      "source": [
        "Aula 2 - Variáveis, tipos, entrada, saída e operadores matemáticos"
      ],
      "metadata": {
        "id": "vNsq1iFc29rf"
      }
    },
    {
      "cell_type": "code",
      "execution_count": null,
      "metadata": {
        "id": "6zT-LdSVGQ7y",
        "colab": {
          "base_uri": "https://localhost:8080/"
        },
        "outputId": "946025a5-1733-4bd5-c036-13b27b28ae9c"
      },
      "outputs": [
        {
          "output_type": "stream",
          "name": "stdout",
          "text": [
            "Rafael Barbosa\n",
            "25\n",
            "1.8\n"
          ]
        }
      ],
      "source": [
        "nome = \"Rafael Barbosa\"\n",
        "idade = 25\n",
        "altura = 1.80\n",
        "print(nome)\n",
        "print(idade)\n",
        "print(altura)"
      ]
    },
    {
      "cell_type": "code",
      "source": [
        "nome = \"Rafael Barbosa\"\n",
        "idade = 25\n",
        "altura = 1.80\n",
        "print(nome,\"tem\",idade,\"e\",altura,\"de altura\")"
      ],
      "metadata": {
        "colab": {
          "base_uri": "https://localhost:8080/"
        },
        "id": "LKsFN-97in0i",
        "outputId": "4910b607-c688-4846-cbc8-d780eace46cc"
      },
      "execution_count": null,
      "outputs": [
        {
          "output_type": "stream",
          "name": "stdout",
          "text": [
            "Rafael Barbosa tem 25 e 1.8 de altura\n"
          ]
        }
      ]
    },
    {
      "cell_type": "markdown",
      "source": [
        ""
      ],
      "metadata": {
        "id": "bX7ZekTLhCJJ"
      }
    },
    {
      "cell_type": "code",
      "source": [
        "nome = input(\"Qual seu nome? \")\n",
        "idade = input(\"Qual a sua idade? \")\n",
        "altura = input(\"Qual sua altura? \")"
      ],
      "metadata": {
        "colab": {
          "base_uri": "https://localhost:8080/"
        },
        "id": "Q9UOH-xjyUFH",
        "outputId": "d2115316-891e-4ddf-e5ea-dab7d9064ec8"
      },
      "execution_count": null,
      "outputs": [
        {
          "name": "stdout",
          "output_type": "stream",
          "text": [
            "Qual seu nome? rafael\n",
            "Qual a sua idade? 25\n",
            "Qual sua altura? 1.80\n"
          ]
        }
      ]
    },
    {
      "cell_type": "code",
      "source": [
        "numero1 = 5\n",
        "numero2 = 6\n",
        "Resultado = numero1 + numero2\n",
        "print(Resultado)"
      ],
      "metadata": {
        "colab": {
          "base_uri": "https://localhost:8080/"
        },
        "id": "b8mzYqK31D73",
        "outputId": "ef9e086b-7da9-412f-e016-a9d076679d38"
      },
      "execution_count": null,
      "outputs": [
        {
          "output_type": "stream",
          "name": "stdout",
          "text": [
            "11\n"
          ]
        }
      ]
    },
    {
      "cell_type": "code",
      "source": [
        "valor = int(input('Entre com um número para saber a tabuada: '))  \n",
        "aux = 0  \n",
        "print('*' * 18)  \n",
        "print('Tabuada de {}'.format(valor))  \n",
        "print('*' * 18)  \n",
        "while(aux <= 10):  \n",
        "  print('{0} X {1} = {2}'.format(aux, valor, (aux * valor)))  \n",
        "  aux = aux + 1 "
      ],
      "metadata": {
        "colab": {
          "base_uri": "https://localhost:8080/"
        },
        "id": "yWJIS5PL1vSf",
        "outputId": "8e575059-4fdc-451b-c87e-a5c0810500ad"
      },
      "execution_count": null,
      "outputs": [
        {
          "output_type": "stream",
          "name": "stdout",
          "text": [
            "Entre com um número para saber a tabuada: 8\n",
            "******************\n",
            "Tabuada de 8\n",
            "******************\n",
            "0 X 8 = 0\n",
            "1 X 8 = 8\n",
            "2 X 8 = 16\n",
            "3 X 8 = 24\n",
            "4 X 8 = 32\n",
            "5 X 8 = 40\n",
            "6 X 8 = 48\n",
            "7 X 8 = 56\n",
            "8 X 8 = 64\n",
            "9 X 8 = 72\n",
            "10 X 8 = 80\n"
          ]
        }
      ]
    },
    {
      "cell_type": "markdown",
      "source": [
        ""
      ],
      "metadata": {
        "id": "Z4jatod-9pXZ"
      }
    },
    {
      "cell_type": "markdown",
      "source": [
        "Aula 3 - Operadores lógicos e estruturas de decisões (IF e ELSE)"
      ],
      "metadata": {
        "id": "CvJt7sNI20FO"
      }
    },
    {
      "cell_type": "code",
      "source": [
        "var_verdade = True\n",
        "var_false = False \n",
        "\n",
        "if var_verdade == True:\n",
        "   print(\"var_verdade é verdadeiro\")"
      ],
      "metadata": {
        "colab": {
          "base_uri": "https://localhost:8080/"
        },
        "id": "O-KPINpj2oqf",
        "outputId": "41f8f35d-6844-4839-dbad-0fae1e7df0c6"
      },
      "execution_count": null,
      "outputs": [
        {
          "output_type": "stream",
          "name": "stdout",
          "text": [
            "var_verdade é verdadeiro\n"
          ]
        }
      ]
    },
    {
      "cell_type": "code",
      "source": [
        "a = 2\n",
        "b = 20\n",
        "\n",
        "if a > b:\n",
        "  print(a, \"É maior que do que\", b)\n",
        "else:\n",
        "   print(a,\"não é maior do que\", b)"
      ],
      "metadata": {
        "colab": {
          "base_uri": "https://localhost:8080/"
        },
        "id": "px8PcuI165Vo",
        "outputId": "24ab64fa-c0bb-44b1-8e3b-1a11c782890b"
      },
      "execution_count": null,
      "outputs": [
        {
          "output_type": "stream",
          "name": "stdout",
          "text": [
            "2 não é maior do que 20\n"
          ]
        }
      ]
    },
    {
      "cell_type": "markdown",
      "source": [
        ""
      ],
      "metadata": {
        "id": "zuxvRwoO24U4"
      }
    },
    {
      "cell_type": "code",
      "source": [
        "a = 2\n",
        "b = 20\n",
        "\n",
        "if a > b and \"abacaxi\" == \"uva\":\n",
        "  print(a, \"É maior que do que\", b)\n",
        "else:\n",
        "   print(a,\"não é maior do que\", b)"
      ],
      "metadata": {
        "id": "XNKWeG_S9rfY"
      },
      "execution_count": null,
      "outputs": []
    },
    {
      "cell_type": "code",
      "source": [
        "print(\"Menu:\\n1 = Escreve Rafael\\n2 = Escreve Barbosa\\n3 = Escreve Rodrigues\\n\")\n",
        "opcao = input(\"Escolha uma opcao:\")\n",
        "if opcao == \"1\":\n",
        "   print(\"Rafael\")\n",
        "if opcao == \"2\":\n",
        "   print(\"Barbosa\")\n",
        "if opcao == \"3\":\n",
        "   print(\"Rodrigues\")\n",
        "else:\n",
        "   print('Opcao invalida')\n",
        "   \n",
        "   "
      ],
      "metadata": {
        "colab": {
          "base_uri": "https://localhost:8080/"
        },
        "id": "1QLLCRXi_TJZ",
        "outputId": "4b24ecbf-190e-4578-d9d7-fb78431cbb76"
      },
      "execution_count": null,
      "outputs": [
        {
          "output_type": "stream",
          "name": "stdout",
          "text": [
            "Menu:\n",
            "1 = Escreve Rafael\n",
            "2 = Escreve Barbosa\n",
            "3 = Escreve Rodrigues\n",
            "\n",
            "Escolha uma opcao:4\n",
            "Opcao invalida\n"
          ]
        }
      ]
    },
    {
      "cell_type": "markdown",
      "source": [
        "Aula 4 - Strings e listas"
      ],
      "metadata": {
        "id": "-O5l7OoLF3ni"
      }
    },
    {
      "cell_type": "code",
      "source": [
        "frase = \"oi, tudo bem?\"\n",
        "lista_nomes = [\"Rafael\",\"Maria\", \"Cecilia\", \"Barbosa\"]\n",
        "lista_nomes.append(\"Geovanna\")\n",
        "lista_nomes.append(\"Pedro\")\n",
        "lista_nomes.remove(\"Rafael\")\n",
        "\n",
        "print(lista_nomes)"
      ],
      "metadata": {
        "colab": {
          "base_uri": "https://localhost:8080/"
        },
        "id": "hK5PVVWKF4bc",
        "outputId": "1f5894b5-6fb5-4643-9181-ccbf751fa119"
      },
      "execution_count": null,
      "outputs": [
        {
          "output_type": "stream",
          "name": "stdout",
          "text": [
            "['Maria', 'Cecilia', 'Barbosa', 'Geovanna', 'Pedro']\n"
          ]
        }
      ]
    },
    {
      "cell_type": "markdown",
      "source": [
        "Aula 5 - Estruturas de laço (WHILE e FOR)\n"
      ],
      "metadata": {
        "id": "uz_JGzzxJ-uc"
      }
    },
    {
      "cell_type": "markdown",
      "source": [
        ""
      ],
      "metadata": {
        "id": "mrU5g7ytABsJ"
      }
    },
    {
      "cell_type": "code",
      "source": [
        "nomes = [\"Rafael\", \"Geovanna\", \"Maria\", \"Cecilia\"]\n",
        "for nome in nomes:\n",
        "    print(nome)"
      ],
      "metadata": {
        "colab": {
          "base_uri": "https://localhost:8080/"
        },
        "id": "iPuLXWO3J8Or",
        "outputId": "0431d21c-065a-4732-e853-ee19d9766fa4"
      },
      "execution_count": null,
      "outputs": [
        {
          "output_type": "stream",
          "name": "stdout",
          "text": [
            "Rafael\n",
            "Geovanna\n",
            "Maria\n",
            "Cecilia\n"
          ]
        }
      ]
    },
    {
      "cell_type": "code",
      "source": [
        "nomes = [\"Rafael\", \"Geovanna\", \"Maria\", \"Cecilia\"]\n",
        "\n",
        "lista_de_numeros = range(5)\n",
        "\n",
        "for item in lista_de_numeros:\n",
        "  print(item)\n"
      ],
      "metadata": {
        "colab": {
          "base_uri": "https://localhost:8080/"
        },
        "id": "-qXbHvAQM2U0",
        "outputId": "8a8b305b-3fef-48d2-f6d5-32ed6c59bacf"
      },
      "execution_count": 4,
      "outputs": [
        {
          "output_type": "stream",
          "name": "stdout",
          "text": [
            "0\n",
            "1\n",
            "2\n",
            "3\n",
            "4\n"
          ]
        }
      ]
    },
    {
      "cell_type": "code",
      "source": [
        "palavras = 'Rafael barbosa'\n",
        "\n",
        "i = 0 \n",
        "\n",
        "while i < 10:\n",
        "  print(\"i ainda é menor que 10\", i)\n",
        "  i = i + 1"
      ],
      "metadata": {
        "colab": {
          "base_uri": "https://localhost:8080/"
        },
        "id": "7s2jplEQYKog",
        "outputId": "946f7bcc-3d0f-4649-a7f5-844d740b5840"
      },
      "execution_count": 5,
      "outputs": [
        {
          "output_type": "stream",
          "name": "stdout",
          "text": [
            "i ainda é menor que 10 0\n",
            "i ainda é menor que 10 1\n",
            "i ainda é menor que 10 2\n",
            "i ainda é menor que 10 3\n",
            "i ainda é menor que 10 4\n",
            "i ainda é menor que 10 5\n",
            "i ainda é menor que 10 6\n",
            "i ainda é menor que 10 7\n",
            "i ainda é menor que 10 8\n",
            "i ainda é menor que 10 9\n"
          ]
        }
      ]
    }
  ]
}